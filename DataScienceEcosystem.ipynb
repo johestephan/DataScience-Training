{
 "cells": [
  {
   "cell_type": "markdown",
   "id": "caf4ae75-b0a7-4600-b54e-a0e80f26c9c9",
   "metadata": {},
   "source": [
    "# Data Science Tools and Ecosystem"
   ]
  },
  {
   "cell_type": "code",
   "execution_count": null,
   "id": "126766b5-ff3a-4ee4-b6db-959e6d1ad0bc",
   "metadata": {},
   "outputs": [],
   "source": []
  },
  {
   "cell_type": "markdown",
   "id": "1040e40b-bfe9-4629-8da8-3057d1c77a3d",
   "metadata": {},
   "source": [
    "In this notebook, Data Science Tools and Ecosystem are summarized."
   ]
  },
  {
   "cell_type": "markdown",
   "id": "53b65c29-27a1-47ce-9d10-27247209f89b",
   "metadata": {},
   "source": [
    "Some of the popular languages that Data Scientists use are:\n",
    "1. python\n",
    "2. R\n",
    "3. Julia\n",
    "4. SQL\n",
    "5. Scala\n",
    "6. Visual Basic"
   ]
  },
  {
   "cell_type": "markdown",
   "id": "fd1ae45d-733b-4c66-b544-884cd03ed72a",
   "metadata": {},
   "source": [
    "Some of the commonly used libraries used by Data Scientists include:\n",
    "1. pandas\n",
    "2. numpy\n",
    "3. scikit-learn\n",
    "4. matplotlib\n",
    "5. Apache Spark\n",
    "6. tensorflow"
   ]
  },
  {
   "cell_type": "markdown",
   "id": "466e01fa-cc2c-40d7-9ff1-23157d02b363",
   "metadata": {},
   "source": [
    "| DataScience Tools      | \n",
    "| ----------- | \n",
    "| JupyterLab      | \n",
    "| RStudio   | \n",
    "| Apache Zeppelin |\n",
    "| Anaconda |"
   ]
  },
  {
   "cell_type": "markdown",
   "id": "6a2ff235-7c46-420e-ac31-4f447ebc6ad8",
   "metadata": {},
   "source": [
    "### Below are a few examples of evaluating arithmetic expressions in Python.\n"
   ]
  },
  {
   "cell_type": "code",
   "execution_count": 1,
   "id": "946a9211-52c3-49c8-91de-fa4c9d0e972b",
   "metadata": {},
   "outputs": [
    {
     "data": {
      "text/plain": [
       "17"
      ]
     },
     "execution_count": 1,
     "metadata": {},
     "output_type": "execute_result"
    }
   ],
   "source": [
    "# This is an arentmetic expression to multiply and add integers\n",
    "(3*4)+5"
   ]
  },
  {
   "cell_type": "code",
   "execution_count": 2,
   "id": "b98ddc9b-b320-490b-9a23-2f5336fab425",
   "metadata": {},
   "outputs": [
    {
     "data": {
      "text/plain": [
       "3.3333333333333335"
      ]
     },
     "execution_count": 2,
     "metadata": {},
     "output_type": "execute_result"
    }
   ],
   "source": [
    "# This will convert 200 minutes into hours\n",
    "200 / 60"
   ]
  },
  {
   "cell_type": "code",
   "execution_count": 10,
   "id": "01874acc-5ee3-4cde-96d1-96a4cb7f8ff7",
   "metadata": {},
   "outputs": [
    {
     "name": "stdout",
     "output_type": "stream",
     "text": [
      "3 hours and 20 minutes\n"
     ]
    }
   ],
   "source": [
    "# Would be of course better to ...\n",
    "print(\"%d hours and %d minutes\" % (200 // 60, 200 % 60))"
   ]
  },
  {
   "cell_type": "markdown",
   "id": "32f35cf6-62f5-41c4-b955-f576d430b000",
   "metadata": {},
   "source": [
    "**Objectives:**\n",
    "- overview of popular Languages like R and Python\n",
    "- Create comments in cells\n",
    "- Different Markdown formats like Bold and headers\n",
    "- Create lists (ordered and unorderd) and tables\n"
   ]
  },
  {
   "cell_type": "markdown",
   "id": "3ed02a1e-dadd-49d3-a1a4-9d8a7a071bcf",
   "metadata": {},
   "source": [
    "---\n",
    "\n",
    "## Author\n",
    "\n",
    "J. Stephan"
   ]
  },
  {
   "cell_type": "code",
   "execution_count": null,
   "id": "18326d43-66c7-4cec-8a9a-3aa41b7f155b",
   "metadata": {},
   "outputs": [],
   "source": []
  }
 ],
 "metadata": {
  "kernelspec": {
   "display_name": "Python 3 (ipykernel)",
   "language": "python",
   "name": "python3"
  },
  "language_info": {
   "codemirror_mode": {
    "name": "ipython",
    "version": 3
   },
   "file_extension": ".py",
   "mimetype": "text/x-python",
   "name": "python",
   "nbconvert_exporter": "python",
   "pygments_lexer": "ipython3",
   "version": "3.11.6"
  }
 },
 "nbformat": 4,
 "nbformat_minor": 5
}
